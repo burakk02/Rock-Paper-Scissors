{
 "cells": [
  {
   "cell_type": "code",
   "execution_count": 1,
   "id": "911d358a-a2ab-4d50-aec8-704d168d39d7",
   "metadata": {},
   "outputs": [
    {
     "name": "stdout",
     "output_type": "stream",
     "text": [
      "Merhaba, seninle bir oyun oyanayacağız \n",
      "\n",
      " Oyunumuzun adı Taş Kağıt ve Makas!\n",
      " Oyunun kuralları çok basit: Taş Makası yener, Makas Kağıdı yener ve Kağıtta Taşı yener.\n",
      " Toplamda 3 elden oluşan oyunda 2 olan kazanır.\n",
      " Her turda yeni bir seçim yapmalısınız ve beni yenmeye çalışmalısınız.\n",
      " Sonucu merakla bekliyorumm! \n"
     ]
    }
   ],
   "source": [
    "print(\"Merhaba, seninle bir oyun oyanayacağız \\n\\n Oyunumuzun adı Taş Kağıt ve Makas!\\n Oyunun kuralları çok basit: Taş Makası yener, Makas Kağıdı yener ve Kağıtta Taşı yener.\\n Toplamda 3 elden oluşan oyunda 2 olan kazanır.\\n Her turda yeni bir seçim yapmalısınız ve beni yenmeye çalışmalısınız.\\n Sonucu merakla bekliyorumm! \")"
   ]
  },
  {
   "cell_type": "code",
   "execution_count": 11,
   "id": "7ceeb022-6043-4c1b-8aba-11718d95093d",
   "metadata": {},
   "outputs": [
    {
     "name": "stdout",
     "output_type": "stream",
     "text": [
      "Merhaba, seninle bir oyun oyanayacağız \n",
      "\n",
      " Oyunumuzun adı Taş Kağıt ve Makas!\n",
      " Oyunun kuralları çok basit: Taş Makası yener, Makas Kağıdı yener ve Kağıtta Taşı yener.\n",
      " Toplamda 3 elden oluşan oyunda 2 olan kazanır.\n",
      " Her turda yeni bir seçim yapmalısınız ve beni yenmeye çalışmalısınız.\n",
      " Sonucu merakla bekliyorumm! \n"
     ]
    },
    {
     "name": "stdin",
     "output_type": "stream",
     "text": [
      "Seçiminizi giriniz ('taş', 'kağıt', 'makas'):  taş\n"
     ]
    },
    {
     "name": "stdout",
     "output_type": "stream",
     "text": [
      "### Oyun=1, El=1 ###\n",
      "Turu kazandınız!\n"
     ]
    },
    {
     "name": "stdin",
     "output_type": "stream",
     "text": [
      "Seçiminizi giriniz ('taş', 'kağıt', 'makas'):  taş\n"
     ]
    },
    {
     "name": "stdout",
     "output_type": "stream",
     "text": [
      "### Oyun=1, El=2 ###\n",
      "Bilgisayar turu kazandı!\n"
     ]
    },
    {
     "name": "stdin",
     "output_type": "stream",
     "text": [
      "Seçiminizi giriniz ('taş', 'kağıt', 'makas'):  taş\n"
     ]
    },
    {
     "name": "stdout",
     "output_type": "stream",
     "text": [
      "### Oyun=1, El=3 ###\n",
      "Bilgisayar turu kazandı!\n",
      "Kaybettiniz! bilgisayar=2, Oyuncu=1\n"
     ]
    },
    {
     "name": "stdin",
     "output_type": "stream",
     "text": [
      "Başka bir oyun oynamak ister misiniz? (e/h):  h\n"
     ]
    },
    {
     "name": "stdout",
     "output_type": "stream",
     "text": [
      "Devam etmek istemediğiniz için oyun sonlanıryor,Kendinize iyi bakın, bir sonraki oyunda görüşmek üzere...\n"
     ]
    }
   ],
   "source": [
    "import random\n",
    "import time\n",
    "\n",
    "print(\"Merhaba, seninle bir oyun oyanayacağız \\n\\n Oyunumuzun adı Taş Kağıt ve Makas!\\n Oyunun kuralları çok basit: Taş Makası yener, Makas Kağıdı yener ve Kağıtta Taşı yener.\\n Toplamda 3 elden oluşan oyunda 2 olan kazanır.\\n Her turda yeni bir seçim yapmalısınız ve beni yenmeye çalışmalısınız.\\n Sonucu merakla bekliyorumm! \")\n",
    "\n",
    "def tas_kagit_makas_BURAK_ALVER(kullanici_secenek, bilgisayar_secenek):\n",
    "    if kullanici_secenek == bilgisayar_secenek:\n",
    "        return 0, 0\n",
    "    elif (kullanici_secenek == 'taş' and bilgisayar_secenek == 'makas') or (kullanici_secenek == 'kağıt' and bilgisayar_secenek == 'taş') or (kullanici_secenek == 'makas' and bilgisayar_secenek == 'kağıt'):\n",
    "        return 1, 0\n",
    "    else:\n",
    "        return 0, 1\n",
    "\n",
    "oyun_list = [\"taş\", \"kağıt\", \"makas\"]\n",
    "oyun = 0\n",
    "devam_list = ['e', 'h']\n",
    "\n",
    "while True:\n",
    "    oyuncu_win = 0\n",
    "    pc_win = 0\n",
    "    el = 0\n",
    "    oyun += 1\n",
    "\n",
    "    while pc_win < 2 and oyuncu_win < 2:\n",
    "        oyuncu_secimi = input(\"Seçiminizi giriniz ('taş', 'kağıt', 'makas'): \").lower()\n",
    "        el += 1\n",
    "        while oyuncu_secimi not in oyun_list:\n",
    "            oyuncu_secimi = input(\"Geçersiz seçim! Tekrar giriniz ('taş', 'kağıt', 'makas'): \").lower()\n",
    "        \n",
    "        print(f\"### Oyun={oyun}, El={el} ###\")\n",
    "        bilgisayar_secimi = random.choice(oyun_list)\n",
    "        \n",
    "        kullanici_sonuc, bilgisayar_sonuc = tas_kagit_makas_BURAK_ALVER(oyuncu_secimi, bilgisayar_secimi)\n",
    "        \n",
    "        if kullanici_sonuc == 1:\n",
    "            print(\"Turu kazandınız!\")\n",
    "        elif bilgisayar_sonuc == 1:\n",
    "            print(\"Bilgisayar turu kazandı!\")\n",
    "        else:\n",
    "            print(\"Bilgisayar ile aynı seçimi yaptınız!\")\n",
    "        \n",
    "        oyuncu_win += kullanici_sonuc\n",
    "        pc_win += bilgisayar_sonuc\n",
    "        \n",
    "        if el == 3:\n",
    "            break\n",
    "\n",
    "    if oyuncu_win < pc_win:\n",
    "        print(f\"Kaybettiniz! bilgisayar={pc_win}, Oyuncu={oyuncu_win}\")\n",
    "    elif pc_win < oyuncu_win:\n",
    "        print(f\"Kazandınız! bilgisayar={pc_win}, Oyuncu={oyuncu_win}\")\n",
    "    else:\n",
    "        print(f\"Berabere! bilgisayar={pc_win}, Oyuncu={oyuncu_win}\")\n",
    "\n",
    "    devam_kullanıcı = input(\"Başka bir oyun oynamak ister misiniz? (e/h): \").lower()\n",
    "    devam_pc = random.choice(devam_list)\n",
    "\n",
    "    if devam_kullanıcı == 'h' or devam_pc == 'h':\n",
    "        if devam_kullanıcı== 'h':\n",
    "            print(\"Devam etmek istemediğiniz için oyun sonlanıryor,Kendinize iyi bakın, bir sonraki oyunda görüşmek üzere...\")\n",
    "        else :\n",
    "            print(\"Bilgisayar oyuna devam etmek istemediği için oyun sonlanıyor. Kendinize iyi bakın, bir sonraki oyunda görüşmek üzere...\")\n",
    "        break\n"
   ]
  },
  {
   "cell_type": "code",
   "execution_count": null,
   "id": "f15e4821-d9fa-421d-b017-b3688daac87c",
   "metadata": {},
   "outputs": [],
   "source": []
  }
 ],
 "metadata": {
  "kernelspec": {
   "display_name": "Python 3 (ipykernel)",
   "language": "python",
   "name": "python3"
  },
  "language_info": {
   "codemirror_mode": {
    "name": "ipython",
    "version": 3
   },
   "file_extension": ".py",
   "mimetype": "text/x-python",
   "name": "python",
   "nbconvert_exporter": "python",
   "pygments_lexer": "ipython3",
   "version": "3.12.4"
  }
 },
 "nbformat": 4,
 "nbformat_minor": 5
}
